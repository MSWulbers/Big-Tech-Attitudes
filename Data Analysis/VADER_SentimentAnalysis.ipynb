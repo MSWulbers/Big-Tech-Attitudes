{
 "cells": [
  {
   "cell_type": "code",
   "execution_count": 1,
   "metadata": {},
   "outputs": [],
   "source": [
    "# Load relevant modules\n",
    "from vaderSentiment.vaderSentiment import SentimentIntensityAnalyzer\n",
    "import pandas as pd"
   ]
  },
  {
   "cell_type": "markdown",
   "metadata": {},
   "source": [
    "## VADER Sentiment Analysis\n",
    "\n",
    "To re-run the analysis, load in your data stored in  `.csv` format.\n",
    "\n",
    "One line should contain one comment/document, with a column called `Text`. The text sho"
   ]
  },
  {
   "cell_type": "code",
   "execution_count": 2,
   "metadata": {},
   "outputs": [],
   "source": [
    "# Load in the Data\n",
    "df = pd.read_csv(\"/Users/merle-sophie/Desktop/MY459_Quant_Text_Analysis/Final_Project/google_readyforsent.csv\")\n",
    "sentences = df['Text']"
   ]
  },
  {
   "cell_type": "code",
   "execution_count": null,
   "metadata": {},
   "outputs": [],
   "source": [
    "# Vader Analysis on Text\n",
    "analyzer = SentimentIntensityAnalyzer()\n",
    "sentscore = []\n",
    "for sentence in sentences:\n",
    "    vs = analyzer.polarity_scores(sentence)\n",
    "    sentscore.append(vs)\n",
    "\n",
    "# Create Vader DF\n",
    "vader_df = pd.DataFrame(sentscore)\n",
    "\n",
    "# Create DataFrame to merge witb\n",
    "merge_df = df[['Comment.ID', 'Score', 'Subreddit', 'Created.Date']]\n",
    "\n",
    "# Concatenate the Vader DF \n",
    "final_df = pd.concat([merge_df, vader_df], axis=1)\n",
    "\n",
    "# Create CSV\n",
    "final_df.to_csv(\"google_vader.csv\")"
   ]
  }
 ],
 "metadata": {
  "kernelspec": {
   "display_name": "Python 3",
   "language": "python",
   "name": "python3"
  },
  "language_info": {
   "codemirror_mode": {
    "name": "ipython",
    "version": 3
   },
   "file_extension": ".py",
   "mimetype": "text/x-python",
   "name": "python",
   "nbconvert_exporter": "python",
   "pygments_lexer": "ipython3",
   "version": "3.7.3"
  }
 },
 "nbformat": 4,
 "nbformat_minor": 4
}
